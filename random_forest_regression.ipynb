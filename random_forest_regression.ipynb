{
  "cells": [
    {
      "cell_type": "markdown",
      "metadata": {
        "colab_type": "text",
        "id": "LeamvpPVXuS_"
      },
      "source": [
        "# Random Forest Regression"
      ]
    },
    {
      "cell_type": "markdown",
      "metadata": {
        "colab_type": "text",
        "id": "O2wvZ7SKXzVC"
      },
      "source": [
        "## Importowanie bibliotek"
      ]
    },
    {
      "cell_type": "code",
      "execution_count": 4,
      "metadata": {
        "colab": {},
        "colab_type": "code",
        "id": "PVmESEFZX4Ig"
      },
      "outputs": [],
      "source": [
        "import numpy as np\n",
        "import matplotlib.pyplot as plt\n",
        "import pandas as pd"
      ]
    },
    {
      "cell_type": "markdown",
      "metadata": {
        "colab_type": "text",
        "id": "zgbK_F8-X7em"
      },
      "source": [
        "## Importowanie zbiorów danych"
      ]
    },
    {
      "cell_type": "code",
      "execution_count": 5,
      "metadata": {
        "colab": {},
        "colab_type": "code",
        "id": "adBE4tjQX_Bh"
      },
      "outputs": [],
      "source": [
        "train_dataset = pd.read_csv('train_dataset.csv')\n",
        "\n",
        "X = train_dataset.drop(columns=['Cena']).values\n",
        "y = train_dataset['Cena'].values"
      ]
    },
    {
      "cell_type": "markdown",
      "metadata": {},
      "source": [
        "## Podział zbioru danych na zbiór treningowy i testowy"
      ]
    },
    {
      "cell_type": "code",
      "execution_count": 6,
      "metadata": {},
      "outputs": [],
      "source": [
        "from sklearn.model_selection import train_test_split\n",
        "X_train, X_test, y_train, y_test = train_test_split(X, y, test_size = 0.3, random_state = 42)"
      ]
    },
    {
      "cell_type": "markdown",
      "metadata": {},
      "source": [
        "## Skalowanie cech"
      ]
    },
    {
      "cell_type": "code",
      "execution_count": 7,
      "metadata": {},
      "outputs": [],
      "source": [
        "from sklearn.preprocessing import StandardScaler\n",
        "sc = StandardScaler()\n",
        "X_train = sc.fit_transform(X_train)\n",
        "X_test = sc.transform(X_test)"
      ]
    },
    {
      "cell_type": "markdown",
      "metadata": {
        "colab_type": "text",
        "id": "v4S2fyIBYDcu"
      },
      "source": [
        "## Training the Random Forest Regression model on the whole dataset"
      ]
    },
    {
      "cell_type": "markdown",
      "metadata": {},
      "source": [
        "### Model 1 - sprawdzenie koncepcji"
      ]
    },
    {
      "cell_type": "code",
      "execution_count": null,
      "metadata": {},
      "outputs": [],
      "source": [
        "from sklearn.ensemble import RandomForestRegressor\n",
        "\n",
        "regressor = RandomForestRegressor(\n",
        "    n_estimators=50,          # Mniej drzew dla szybszego trenowania\n",
        "    max_depth=20,             # Ograniczona głębokość, aby uniknąć przeuczenia\n",
        "    max_features='sqrt',      # Pierwiastek z liczby cech (~34 na 1200)\n",
        "    min_samples_split=10,     # Większa minimalna liczba próbek do podziału, aby uniknąć nadmiernego dopasowania\n",
        "    min_samples_leaf=5,       # Minimum 5 próbek w liściu, by zmniejszyć overfitting\n",
        "    n_jobs=-1,                # Wykorzystanie wszystkich rdzeni procesora\n",
        "    random_state=42\n",
        ")\n",
        "\n",
        "regressor.fit(X_train, y_train)"
      ]
    },
    {
      "cell_type": "markdown",
      "metadata": {},
      "source": [
        "### Model 2 - unikanie przeuczenia"
      ]
    },
    {
      "cell_type": "code",
      "execution_count": null,
      "metadata": {},
      "outputs": [],
      "source": [
        "from sklearn.ensemble import RandomForestRegressor\n",
        "\n",
        "regressor = RandomForestRegressor(\n",
        "    n_estimators=100,         # Mniej drzew dla szybszego trenowania, więcej dla redukcji wariancji\n",
        "    max_depth=15,             # Ograniczona głębokość, aby uniknąć przeuczenia lub zwiększona, aby lepiej uchwycić zależności\n",
        "    max_features='sqrt',      # Pierwiastek z liczby cech (~34 dla 1200)\n",
        "    min_samples_split=15,     # Większa minimalna liczba próbek do podziału, aby uniknąć nadmiernego dopasowania lub mniejsza dla sklomplikowanych podziałów\n",
        "    min_samples_leaf=10,      # Minimum 5 próbek w liściu, by zmniejszyć overfitting\n",
        "    bootstrap=True,           # Losowe podpróbki dla lepszej stabilności\n",
        "    n_jobs=-1,                # Wykorzystanie wszystkich rdzeni procesora\n",
        "    random_state=42\n",
        ")\n",
        "\n",
        "regressor.fit(X_train, y_train)"
      ]
    },
    {
      "cell_type": "markdown",
      "metadata": {},
      "source": [
        "### Model 3 - mocne dopasowanie do wzorców"
      ]
    },
    {
      "cell_type": "code",
      "execution_count": null,
      "metadata": {},
      "outputs": [],
      "source": [
        "regressor = RandomForestRegressor(\n",
        "    n_estimators=300,       # Więcej drzew dla redukcji wariancji\n",
        "    max_depth=30,           # Głębsze drzewa, aby lepiej uchwycić zależności\n",
        "    max_features='sqrt',    # Standardowa wartość (~34 na 1200)\n",
        "    min_samples_split=5,    # Mniejsza wartość dla bardziej skomplikowanych podziałów\n",
        "    min_samples_leaf=2,     # Bardziej szczegółowe liście\n",
        "    bootstrap=True,         # Podpróbki dla stabilności\n",
        "    n_jobs=-1, \n",
        "    random_state=42\n",
        ")\n",
        "\n",
        "regressor.fit(X_train, y_train)"
      ]
    },
    {
      "cell_type": "markdown",
      "metadata": {},
      "source": [
        "### Model 4 - podkręcony model"
      ]
    },
    {
      "cell_type": "code",
      "execution_count": null,
      "metadata": {},
      "outputs": [
        {
          "data": {
            "text/plain": [
              "RandomForestRegressor(bootstrap=False, max_depth=100, max_features='sqrt',\n",
              "                      min_samples_leaf=2, min_samples_split=5,\n",
              "                      n_estimators=1000, n_jobs=-1, random_state=42)"
            ]
          },
          "execution_count": 22,
          "metadata": {},
          "output_type": "execute_result"
        }
      ],
      "source": [
        "from sklearn.ensemble import RandomForestRegressor\n",
        "\n",
        "regressor = RandomForestRegressor(\n",
        "    n_estimators=1000,       # Więcej drzew dla redukcji wariancji\n",
        "    max_depth=50,           # Głębsze drzewa, aby lepiej uchwycić zależności\n",
        "    max_features='sqrt',    # Standardowa wartość (~34 na 1200)\n",
        "    min_samples_split=5,    # Mniejsza wartość dla bardziej skomplikowanych podziałów\n",
        "    min_samples_leaf=2,     # Bardziej szczegółowe liście\n",
        "    bootstrap=False,         # Podpróbki dla stabilności\n",
        "    n_jobs=-1, \n",
        "    random_state=42\n",
        ")\n",
        "\n",
        "regressor.fit(X_train, y_train)"
      ]
    },
    {
      "cell_type": "markdown",
      "metadata": {},
      "source": [
        "## Przewidywanie wartości zbioru testowego"
      ]
    },
    {
      "cell_type": "code",
      "execution_count": 23,
      "metadata": {},
      "outputs": [
        {
          "name": "stdout",
          "output_type": "stream",
          "text": [
            "[[ 23365.02   6800.  ]\n",
            " [ 65374.42  39900.  ]\n",
            " [ 21146.32   9200.  ]\n",
            " ...\n",
            " [498445.85 555555.  ]\n",
            " [ 55638.5   65900.  ]\n",
            " [ 30235.6   25850.  ]]\n"
          ]
        }
      ],
      "source": [
        "y_pred = regressor.predict(X_test)\n",
        "np.set_printoptions(precision=2)\n",
        "print(np.concatenate((y_pred.reshape(len(y_pred),1), y_test.reshape(len(y_test),1)),1)) # sposób na zmianę rozmiarów wektora\n",
        "\n",
        "# axix 0 vertical, 1 horizontal"
      ]
    },
    {
      "cell_type": "markdown",
      "metadata": {},
      "source": [
        "## RMSE"
      ]
    },
    {
      "cell_type": "code",
      "execution_count": 24,
      "metadata": {},
      "outputs": [
        {
          "name": "stdout",
          "output_type": "stream",
          "text": [
            "RMSE: 34945.13\n"
          ]
        }
      ],
      "source": [
        "from sklearn.metrics import mean_squared_error\n",
        "\n",
        "# Obliczenie RMSE\n",
        "rmse = np.sqrt(mean_squared_error(y_test, y_pred))\n",
        "\n",
        "# Wyświetlenie wyniku\n",
        "print(f\"RMSE: {rmse:.2f}\")"
      ]
    },
    {
      "cell_type": "markdown",
      "metadata": {},
      "source": [
        "## Eliminacja cech - tu niepotrzebna, nie zwiększa dokładności"
      ]
    },
    {
      "cell_type": "code",
      "execution_count": null,
      "metadata": {},
      "outputs": [],
      "source": [
        "X_train_df = pd.DataFrame(X_train)\n",
        "X_test_df = pd.DataFrame(X_test)\n"
      ]
    },
    {
      "cell_type": "code",
      "execution_count": null,
      "metadata": {},
      "outputs": [],
      "source": [
        "# Pobranie ważności cech\n",
        "importances = regressor.feature_importances_\n",
        "\n",
        "# Tworzymy DataFrame z cechami i ich ważnością\n",
        "feature_importance_df = pd.DataFrame({'Feature': X_train_df.columns, 'Importance': importances})\n",
        "feature_importance_df = feature_importance_df.sort_values(by='Importance', ascending=False)\n",
        "\n",
        "# Wybieramy tylko cechy, które mają np. co najmniej 0.01 ważności\n",
        "threshold = 0.01\n",
        "selected_features = feature_importance_df[feature_importance_df['Importance'] > threshold]['Feature'].tolist()\n",
        "\n",
        "print(\"Wybrane cechy:\", selected_features)"
      ]
    },
    {
      "cell_type": "code",
      "execution_count": null,
      "metadata": {},
      "outputs": [],
      "source": [
        "to_drop = [col for col in X_train_df.columns if col not in selected_features]\n",
        "X_train_reduced = X_train_df.drop(columns=to_drop)\n",
        "X_test_reduced = X_test_df.drop(columns=to_drop)\n",
        "\n",
        "# Wypisujemy usunięte cechy oraz nowy zbiór cech\n",
        "print(\"Usunięte cechy:\", to_drop)\n",
        "print(\"Nowy zbiór cech:\", X_train_reduced.columns)\n",
        "print(\"Liczba wybranych cech:\", len(X_train_reduced.columns))"
      ]
    },
    {
      "cell_type": "markdown",
      "metadata": {},
      "source": [
        "## Trenowanie modelu po eliminacji cech"
      ]
    },
    {
      "cell_type": "code",
      "execution_count": null,
      "metadata": {},
      "outputs": [],
      "source": [
        "regressor.fit(X_train_reduced, y_train)"
      ]
    },
    {
      "cell_type": "markdown",
      "metadata": {},
      "source": [
        "### Przewidywanie na zbiorze testowym"
      ]
    },
    {
      "cell_type": "code",
      "execution_count": null,
      "metadata": {},
      "outputs": [],
      "source": [
        "y_pred = regressor.predict(X_test_reduced)"
      ]
    },
    {
      "cell_type": "code",
      "execution_count": null,
      "metadata": {},
      "outputs": [],
      "source": [
        "# Ustawienie precyzji wyświetlania\n",
        "np.set_printoptions(precision=0)\n",
        "\n",
        "# Połączenie przewidywań (y_pred) z rzeczywistymi wartościami (y_test)\n",
        "result = np.concatenate((y_pred.reshape(-1, 1), y_test.reshape(-1, 1)), axis=1)\n",
        "\n",
        "# Wypisanie wyników\n",
        "print(result)"
      ]
    },
    {
      "cell_type": "markdown",
      "metadata": {},
      "source": [
        "## RMSE"
      ]
    },
    {
      "cell_type": "code",
      "execution_count": null,
      "metadata": {},
      "outputs": [],
      "source": [
        "from sklearn.metrics import mean_squared_error\n",
        "\n",
        "# Obliczenie RMSE\n",
        "rmse = np.sqrt(mean_squared_error(y_test, y_pred))\n",
        "\n",
        "# Wyświetlenie wyniku\n",
        "print(f\"RMSE: {rmse:.2f}\")"
      ]
    },
    {
      "cell_type": "markdown",
      "metadata": {},
      "source": [
        "# Przygotowanie wyników dla zbioru testowego (bez podanych cen)"
      ]
    },
    {
      "cell_type": "code",
      "execution_count": 12,
      "metadata": {},
      "outputs": [],
      "source": [
        "final_test_dataset = pd.read_csv('test_dataset.csv')"
      ]
    },
    {
      "cell_type": "code",
      "execution_count": 13,
      "metadata": {},
      "outputs": [
        {
          "data": {
            "text/plain": [
              "(72907, 1351)"
            ]
          },
          "execution_count": 13,
          "metadata": {},
          "output_type": "execute_result"
        }
      ],
      "source": [
        "final_test_dataset.shape"
      ]
    },
    {
      "cell_type": "code",
      "execution_count": 14,
      "metadata": {},
      "outputs": [
        {
          "data": {
            "text/html": [
              "<div>\n",
              "<style scoped>\n",
              "    .dataframe tbody tr th:only-of-type {\n",
              "        vertical-align: middle;\n",
              "    }\n",
              "\n",
              "    .dataframe tbody tr th {\n",
              "        vertical-align: top;\n",
              "    }\n",
              "\n",
              "    .dataframe thead th {\n",
              "        text-align: right;\n",
              "    }\n",
              "</style>\n",
              "<table border=\"1\" class=\"dataframe\">\n",
              "  <thead>\n",
              "    <tr style=\"text-align: right;\">\n",
              "      <th></th>\n",
              "      <th>ID</th>\n",
              "      <th>Cena</th>\n",
              "      <th>Stan</th>\n",
              "      <th>Rok_produkcji</th>\n",
              "      <th>Przebieg_km</th>\n",
              "      <th>Moc_KM</th>\n",
              "      <th>Pojemnosc_cm3</th>\n",
              "      <th>Emisja_CO2</th>\n",
              "      <th>Liczba_drzwi</th>\n",
              "      <th>Rok_publikacji</th>\n",
              "      <th>...</th>\n",
              "      <th>Kolor_burgundy</th>\n",
              "      <th>Kolor_golden</th>\n",
              "      <th>Kolor_gray</th>\n",
              "      <th>Kolor_green</th>\n",
              "      <th>Kolor_other</th>\n",
              "      <th>Kolor_red</th>\n",
              "      <th>Kolor_silver</th>\n",
              "      <th>Kolor_violet</th>\n",
              "      <th>Kolor_white</th>\n",
              "      <th>Kolor_yellow</th>\n",
              "    </tr>\n",
              "  </thead>\n",
              "  <tbody>\n",
              "    <tr>\n",
              "      <th>0</th>\n",
              "      <td>1.0</td>\n",
              "      <td>13900.0</td>\n",
              "      <td>1.0</td>\n",
              "      <td>2005.0</td>\n",
              "      <td>213000.0</td>\n",
              "      <td>170.0</td>\n",
              "      <td>1998.0</td>\n",
              "      <td>232.0</td>\n",
              "      <td>5.0</td>\n",
              "      <td>2021.0</td>\n",
              "      <td>...</td>\n",
              "      <td>0</td>\n",
              "      <td>0</td>\n",
              "      <td>0</td>\n",
              "      <td>0</td>\n",
              "      <td>0</td>\n",
              "      <td>0</td>\n",
              "      <td>0</td>\n",
              "      <td>0</td>\n",
              "      <td>0</td>\n",
              "      <td>0</td>\n",
              "    </tr>\n",
              "    <tr>\n",
              "      <th>1</th>\n",
              "      <td>2.0</td>\n",
              "      <td>25900.0</td>\n",
              "      <td>1.0</td>\n",
              "      <td>2010.0</td>\n",
              "      <td>117089.0</td>\n",
              "      <td>110.0</td>\n",
              "      <td>1598.0</td>\n",
              "      <td>159.0</td>\n",
              "      <td>5.0</td>\n",
              "      <td>2021.0</td>\n",
              "      <td>...</td>\n",
              "      <td>0</td>\n",
              "      <td>0</td>\n",
              "      <td>0</td>\n",
              "      <td>0</td>\n",
              "      <td>0</td>\n",
              "      <td>0</td>\n",
              "      <td>1</td>\n",
              "      <td>0</td>\n",
              "      <td>0</td>\n",
              "      <td>0</td>\n",
              "    </tr>\n",
              "    <tr>\n",
              "      <th>2</th>\n",
              "      <td>3.0</td>\n",
              "      <td>35900.0</td>\n",
              "      <td>1.0</td>\n",
              "      <td>2015.0</td>\n",
              "      <td>115600.0</td>\n",
              "      <td>136.0</td>\n",
              "      <td>1598.0</td>\n",
              "      <td>145.0</td>\n",
              "      <td>5.0</td>\n",
              "      <td>2021.0</td>\n",
              "      <td>...</td>\n",
              "      <td>0</td>\n",
              "      <td>0</td>\n",
              "      <td>0</td>\n",
              "      <td>0</td>\n",
              "      <td>0</td>\n",
              "      <td>0</td>\n",
              "      <td>0</td>\n",
              "      <td>0</td>\n",
              "      <td>1</td>\n",
              "      <td>0</td>\n",
              "    </tr>\n",
              "    <tr>\n",
              "      <th>3</th>\n",
              "      <td>4.0</td>\n",
              "      <td>5999.0</td>\n",
              "      <td>1.0</td>\n",
              "      <td>2007.0</td>\n",
              "      <td>218000.0</td>\n",
              "      <td>90.0</td>\n",
              "      <td>1560.0</td>\n",
              "      <td>118.0</td>\n",
              "      <td>5.0</td>\n",
              "      <td>2021.0</td>\n",
              "      <td>...</td>\n",
              "      <td>0</td>\n",
              "      <td>0</td>\n",
              "      <td>0</td>\n",
              "      <td>0</td>\n",
              "      <td>0</td>\n",
              "      <td>0</td>\n",
              "      <td>0</td>\n",
              "      <td>0</td>\n",
              "      <td>0</td>\n",
              "      <td>0</td>\n",
              "    </tr>\n",
              "    <tr>\n",
              "      <th>4</th>\n",
              "      <td>5.0</td>\n",
              "      <td>44800.0</td>\n",
              "      <td>1.0</td>\n",
              "      <td>2013.0</td>\n",
              "      <td>174645.0</td>\n",
              "      <td>142.0</td>\n",
              "      <td>1798.0</td>\n",
              "      <td>152.0</td>\n",
              "      <td>4.0</td>\n",
              "      <td>2021.0</td>\n",
              "      <td>...</td>\n",
              "      <td>0</td>\n",
              "      <td>0</td>\n",
              "      <td>0</td>\n",
              "      <td>0</td>\n",
              "      <td>1</td>\n",
              "      <td>0</td>\n",
              "      <td>0</td>\n",
              "      <td>0</td>\n",
              "      <td>0</td>\n",
              "      <td>0</td>\n",
              "    </tr>\n",
              "  </tbody>\n",
              "</table>\n",
              "<p>5 rows × 1352 columns</p>\n",
              "</div>"
            ],
            "text/plain": [
              "    ID     Cena  Stan  Rok_produkcji  Przebieg_km  Moc_KM  Pojemnosc_cm3  \\\n",
              "0  1.0  13900.0   1.0         2005.0     213000.0   170.0         1998.0   \n",
              "1  2.0  25900.0   1.0         2010.0     117089.0   110.0         1598.0   \n",
              "2  3.0  35900.0   1.0         2015.0     115600.0   136.0         1598.0   \n",
              "3  4.0   5999.0   1.0         2007.0     218000.0    90.0         1560.0   \n",
              "4  5.0  44800.0   1.0         2013.0     174645.0   142.0         1798.0   \n",
              "\n",
              "   Emisja_CO2  Liczba_drzwi  Rok_publikacji  ...  Kolor_burgundy  \\\n",
              "0       232.0           5.0          2021.0  ...               0   \n",
              "1       159.0           5.0          2021.0  ...               0   \n",
              "2       145.0           5.0          2021.0  ...               0   \n",
              "3       118.0           5.0          2021.0  ...               0   \n",
              "4       152.0           4.0          2021.0  ...               0   \n",
              "\n",
              "   Kolor_golden  Kolor_gray  Kolor_green  Kolor_other  Kolor_red  \\\n",
              "0             0           0            0            0          0   \n",
              "1             0           0            0            0          0   \n",
              "2             0           0            0            0          0   \n",
              "3             0           0            0            0          0   \n",
              "4             0           0            0            1          0   \n",
              "\n",
              "   Kolor_silver  Kolor_violet  Kolor_white  Kolor_yellow  \n",
              "0             0             0            0             0  \n",
              "1             1             0            0             0  \n",
              "2             0             0            1             0  \n",
              "3             0             0            0             0  \n",
              "4             0             0            0             0  \n",
              "\n",
              "[5 rows x 1352 columns]"
            ]
          },
          "execution_count": 14,
          "metadata": {},
          "output_type": "execute_result"
        }
      ],
      "source": [
        "train_dataset.head()"
      ]
    },
    {
      "cell_type": "code",
      "execution_count": 15,
      "metadata": {},
      "outputs": [
        {
          "data": {
            "text/html": [
              "<div>\n",
              "<style scoped>\n",
              "    .dataframe tbody tr th:only-of-type {\n",
              "        vertical-align: middle;\n",
              "    }\n",
              "\n",
              "    .dataframe tbody tr th {\n",
              "        vertical-align: top;\n",
              "    }\n",
              "\n",
              "    .dataframe thead th {\n",
              "        text-align: right;\n",
              "    }\n",
              "</style>\n",
              "<table border=\"1\" class=\"dataframe\">\n",
              "  <thead>\n",
              "    <tr style=\"text-align: right;\">\n",
              "      <th></th>\n",
              "      <th>ID</th>\n",
              "      <th>Cena</th>\n",
              "      <th>Stan</th>\n",
              "      <th>Rok_produkcji</th>\n",
              "      <th>Przebieg_km</th>\n",
              "      <th>Moc_KM</th>\n",
              "      <th>Pojemnosc_cm3</th>\n",
              "      <th>Emisja_CO2</th>\n",
              "      <th>Liczba_drzwi</th>\n",
              "      <th>Rok_publikacji</th>\n",
              "      <th>...</th>\n",
              "      <th>Kolor_burgundy</th>\n",
              "      <th>Kolor_golden</th>\n",
              "      <th>Kolor_gray</th>\n",
              "      <th>Kolor_green</th>\n",
              "      <th>Kolor_other</th>\n",
              "      <th>Kolor_red</th>\n",
              "      <th>Kolor_silver</th>\n",
              "      <th>Kolor_violet</th>\n",
              "      <th>Kolor_white</th>\n",
              "      <th>Kolor_yellow</th>\n",
              "    </tr>\n",
              "  </thead>\n",
              "  <tbody>\n",
              "    <tr>\n",
              "      <th>0</th>\n",
              "      <td>1.0</td>\n",
              "      <td>0</td>\n",
              "      <td>0.0</td>\n",
              "      <td>2021.0</td>\n",
              "      <td>1.0</td>\n",
              "      <td>163.0</td>\n",
              "      <td>1950.0</td>\n",
              "      <td>153.0</td>\n",
              "      <td>5.0</td>\n",
              "      <td>2021.0</td>\n",
              "      <td>...</td>\n",
              "      <td>0</td>\n",
              "      <td>0</td>\n",
              "      <td>0</td>\n",
              "      <td>0</td>\n",
              "      <td>0</td>\n",
              "      <td>0</td>\n",
              "      <td>0</td>\n",
              "      <td>0</td>\n",
              "      <td>0</td>\n",
              "      <td>0</td>\n",
              "    </tr>\n",
              "    <tr>\n",
              "      <th>1</th>\n",
              "      <td>2.0</td>\n",
              "      <td>0</td>\n",
              "      <td>1.0</td>\n",
              "      <td>2008.0</td>\n",
              "      <td>202585.0</td>\n",
              "      <td>145.0</td>\n",
              "      <td>1999.0</td>\n",
              "      <td>184.0</td>\n",
              "      <td>5.0</td>\n",
              "      <td>2021.0</td>\n",
              "      <td>...</td>\n",
              "      <td>0</td>\n",
              "      <td>0</td>\n",
              "      <td>0</td>\n",
              "      <td>0</td>\n",
              "      <td>1</td>\n",
              "      <td>0</td>\n",
              "      <td>0</td>\n",
              "      <td>0</td>\n",
              "      <td>0</td>\n",
              "      <td>0</td>\n",
              "    </tr>\n",
              "    <tr>\n",
              "      <th>2</th>\n",
              "      <td>3.0</td>\n",
              "      <td>0</td>\n",
              "      <td>1.0</td>\n",
              "      <td>2005.0</td>\n",
              "      <td>373000.0</td>\n",
              "      <td>218.0</td>\n",
              "      <td>2993.0</td>\n",
              "      <td>155.0</td>\n",
              "      <td>5.0</td>\n",
              "      <td>2021.0</td>\n",
              "      <td>...</td>\n",
              "      <td>0</td>\n",
              "      <td>0</td>\n",
              "      <td>1</td>\n",
              "      <td>0</td>\n",
              "      <td>0</td>\n",
              "      <td>0</td>\n",
              "      <td>0</td>\n",
              "      <td>0</td>\n",
              "      <td>0</td>\n",
              "      <td>0</td>\n",
              "    </tr>\n",
              "    <tr>\n",
              "      <th>3</th>\n",
              "      <td>4.0</td>\n",
              "      <td>0</td>\n",
              "      <td>0.0</td>\n",
              "      <td>2021.0</td>\n",
              "      <td>10.0</td>\n",
              "      <td>130.0</td>\n",
              "      <td>1498.0</td>\n",
              "      <td>133.0</td>\n",
              "      <td>5.0</td>\n",
              "      <td>2021.0</td>\n",
              "      <td>...</td>\n",
              "      <td>0</td>\n",
              "      <td>0</td>\n",
              "      <td>0</td>\n",
              "      <td>0</td>\n",
              "      <td>0</td>\n",
              "      <td>0</td>\n",
              "      <td>0</td>\n",
              "      <td>0</td>\n",
              "      <td>1</td>\n",
              "      <td>0</td>\n",
              "    </tr>\n",
              "    <tr>\n",
              "      <th>4</th>\n",
              "      <td>5.0</td>\n",
              "      <td>0</td>\n",
              "      <td>1.0</td>\n",
              "      <td>2014.0</td>\n",
              "      <td>150000.0</td>\n",
              "      <td>245.0</td>\n",
              "      <td>2967.0</td>\n",
              "      <td>156.0</td>\n",
              "      <td>5.0</td>\n",
              "      <td>2021.0</td>\n",
              "      <td>...</td>\n",
              "      <td>0</td>\n",
              "      <td>0</td>\n",
              "      <td>1</td>\n",
              "      <td>0</td>\n",
              "      <td>0</td>\n",
              "      <td>0</td>\n",
              "      <td>0</td>\n",
              "      <td>0</td>\n",
              "      <td>0</td>\n",
              "      <td>0</td>\n",
              "    </tr>\n",
              "  </tbody>\n",
              "</table>\n",
              "<p>5 rows × 1352 columns</p>\n",
              "</div>"
            ],
            "text/plain": [
              "    ID  Cena  Stan  Rok_produkcji  Przebieg_km  Moc_KM  Pojemnosc_cm3  \\\n",
              "0  1.0     0   0.0         2021.0          1.0   163.0         1950.0   \n",
              "1  2.0     0   1.0         2008.0     202585.0   145.0         1999.0   \n",
              "2  3.0     0   1.0         2005.0     373000.0   218.0         2993.0   \n",
              "3  4.0     0   0.0         2021.0         10.0   130.0         1498.0   \n",
              "4  5.0     0   1.0         2014.0     150000.0   245.0         2967.0   \n",
              "\n",
              "   Emisja_CO2  Liczba_drzwi  Rok_publikacji  ...  Kolor_burgundy  \\\n",
              "0       153.0           5.0          2021.0  ...               0   \n",
              "1       184.0           5.0          2021.0  ...               0   \n",
              "2       155.0           5.0          2021.0  ...               0   \n",
              "3       133.0           5.0          2021.0  ...               0   \n",
              "4       156.0           5.0          2021.0  ...               0   \n",
              "\n",
              "   Kolor_golden  Kolor_gray  Kolor_green  Kolor_other  Kolor_red  \\\n",
              "0             0           0            0            0          0   \n",
              "1             0           0            0            1          0   \n",
              "2             0           1            0            0          0   \n",
              "3             0           0            0            0          0   \n",
              "4             0           1            0            0          0   \n",
              "\n",
              "   Kolor_silver  Kolor_violet  Kolor_white  Kolor_yellow  \n",
              "0             0             0            0             0  \n",
              "1             0             0            0             0  \n",
              "2             0             0            0             0  \n",
              "3             0             0            1             0  \n",
              "4             0             0            0             0  \n",
              "\n",
              "[5 rows x 1352 columns]"
            ]
          },
          "execution_count": 15,
          "metadata": {},
          "output_type": "execute_result"
        }
      ],
      "source": [
        "final_test_dataset.insert(1, 'Cena', 0)\n",
        "final_test_dataset.head()"
      ]
    },
    {
      "cell_type": "code",
      "execution_count": 16,
      "metadata": {},
      "outputs": [],
      "source": [
        "X_final = final_test_dataset.drop(columns=['Cena'])"
      ]
    },
    {
      "cell_type": "code",
      "execution_count": 17,
      "metadata": {},
      "outputs": [
        {
          "name": "stderr",
          "output_type": "stream",
          "text": [
            "/Users/mieszkokozikowski/Documents/Conda/miniconda3/envs/radenv_2/lib/python3.7/site-packages/sklearn/base.py:444: UserWarning: X has feature names, but StandardScaler was fitted without feature names\n",
            "  f\"X has feature names, but {self.__class__.__name__} was fitted without\"\n"
          ]
        }
      ],
      "source": [
        "X_final = sc.transform(X_final)"
      ]
    },
    {
      "cell_type": "code",
      "execution_count": 19,
      "metadata": {},
      "outputs": [
        {
          "name": "stdout",
          "output_type": "stream",
          "text": [
            "[[228073]\n",
            " [ 20925]\n",
            " [ 39496]\n",
            " ...\n",
            " [ 57463]\n",
            " [ 24132]\n",
            " [153081]]\n"
          ]
        }
      ],
      "source": [
        "y_final_pred = regressor.predict(X_final)\n",
        "\n",
        "y_final_pred = np.round(y_final_pred).astype(int)\n",
        "\n",
        "print(y_final_pred.reshape(-1, 1))"
      ]
    },
    {
      "cell_type": "code",
      "execution_count": 20,
      "metadata": {},
      "outputs": [],
      "source": [
        "# Tworzenie DataFrame z ID i przewidywanymi cenami\n",
        "submission = pd.DataFrame({\n",
        "    'ID': final_test_dataset['ID'].astype('Int32'),  \n",
        "    'Cena': y_final_pred  \n",
        "})"
      ]
    },
    {
      "cell_type": "code",
      "execution_count": 21,
      "metadata": {},
      "outputs": [
        {
          "name": "stdout",
          "output_type": "stream",
          "text": [
            "Predykcje zostały zapisane do 'predicted_prices.csv'\n"
          ]
        }
      ],
      "source": [
        "# Zapis do pliku\n",
        "submission.to_csv('predicted_prices.csv', index=False)\n",
        "\n",
        "print(\"Predykcje zostały zapisane do 'predicted_prices.csv'\")"
      ]
    }
  ],
  "metadata": {
    "colab": {
      "name": "random_forest_regression.ipynb",
      "provenance": [],
      "toc_visible": true
    },
    "kernelspec": {
      "display_name": "radenv_2",
      "language": "python",
      "name": "python3"
    },
    "language_info": {
      "codemirror_mode": {
        "name": "ipython",
        "version": 3
      },
      "file_extension": ".py",
      "mimetype": "text/x-python",
      "name": "python",
      "nbconvert_exporter": "python",
      "pygments_lexer": "ipython3",
      "version": "3.7.12"
    }
  },
  "nbformat": 4,
  "nbformat_minor": 0
}
